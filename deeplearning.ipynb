{
 "cells": [
  {
   "cell_type": "markdown",
   "metadata": {},
   "source": [
    "# Reseau de neurones profonds\n",
    "\n",
    "## ALGO : ANN\n",
    "\n",
    "#### Imporation des modules necessaires"
   ]
  },
  {
   "cell_type": "code",
   "execution_count": 2,
   "metadata": {},
   "outputs": [],
   "source": [
    "import numpy as np\n",
    "from tqdm import tqdm \n",
    "import matplotlib.pyplot as plt\n",
    "import random\n",
    "from sklearn.datasets import make_circles"
   ]
  },
  {
   "cell_type": "markdown",
   "metadata": {},
   "source": [
    "# Formules importantes:\n",
    "\n",
    "## Le perceptron :\n",
    "On note $n$ le nombre de paramètres de $x$, $m$ le nombre d'élément $x$\n",
    "\n",
    "\n",
    "$z(x_1,x_2,...,x_m)=x_1\\times w_1 + x_2\\times w_2 + ... + x_m\\times w_m + b$\n",
    "\n",
    "### Fonction sigmoïde\n",
    "\n",
    "$a(z) = \\frac{1}{1 + e^{-z}}$\n",
    "\n",
    "### Fonction coût\n",
    "\n",
    "$L=\\frac{-1}{m}\\times \\sum_{i=1}^{m} y_i\\times \\log{a_i} + (1 - y_i)\\times \\log(1 - a_i)$\n",
    "\n",
    "### Les gradients :\n",
    "\n",
    "$\\frac{\\partial{L}}{\\partial{w_n}} = \\frac{1}{m} \\sum_{i=1}^{m} (a_i - y_i)\\times x_ni $\n",
    "\n",
    "$\\frac{\\partial{L}}{\\partial{b}} = \\frac{1}{m} \\sum_{i=1}^{m} (a_i - y_i)$\n",
    "\n",
    "\n",
    "## Vectorisation des précédentes formules :\n",
    "\n",
    "### Matrice de l'entrée X :\n",
    "\n",
    "$X = \\begin{bmatrix}\n",
    "x_1^{ 1} & x_2^{ 1} & ... & x_n^{ 1}\\\\\n",
    "x_1^{ 2} & x_2^{ 2} & ... & x_n^{ 2}\\\\\n",
    "... & ... & ... & ...\\\\\n",
    "x_1^{ m} & x_2^{ m} & ... & x_n^{ m}\\\\\n",
    "\\end{bmatrix} \\in R^{m\\times n}$\n",
    "### Matrice de conditions y :\n",
    "\n",
    "$Y= \\begin{bmatrix}\n",
    "Y_1\\\\Y_2\\\\...\\\\Y_m\\\\\n",
    "\\end{bmatrix} \\in R^{m\\times 1}$\n",
    "### Matrice des gradients : \n",
    "\n",
    "$w= \\begin{bmatrix}\n",
    "w_1\\\\w_2\\\\...\\\\w_n\\\\\n",
    "\\end{bmatrix} \\in R^{n\\times 1}$\n",
    "### Expression de Z :\n",
    "\n",
    "$Z = X\\times W + b, b \\in R = \\begin{bmatrix}\n",
    "z_1\\\\z_2\\\\...\\\\z_m\\\\\n",
    "\\end{bmatrix} \\in R^{m\\times 1}$\n",
    "\n",
    "### Expression de la fonction sigmoïde :\n",
    "$A = \\frac{1}{1 + e^{-Z}} = \\begin{bmatrix}\n",
    "a_1\\\\a_2\\\\...\\\\a_m\\\\\n",
    "\\end{bmatrix} \\in R^{m\\times 1}$\n",
    "\n",
    "### Expression de la fonction coût :\n",
    "\n",
    "$L =\\frac{-1}{m}\\times \\sum_{i=1}^{m} Y_i\\times \\log{A_i} + (1 - Y_i)\\times \\log(1 - A_i)$\n",
    "\n",
    "### Descente de gradients :\n",
    "\n",
    "#### Dérivées partielles :\n",
    "\n",
    "$\\frac{\\partial{L}}{\\partial{W}} = \\frac{1}{m} \\times X^{T} \\times (A-Y) = \\begin{bmatrix}\n",
    "\\frac{\\partial{L}}{\\partial{W_1}}\\\\\n",
    "\\frac{\\partial{L}}{\\partial{W_2}}\\\\\n",
    "\\frac{\\partial{L}}{\\partial{W_i}}\\\\\n",
    "\\frac{\\partial{L}}{\\partial{W_n}}\\\\\n",
    "\\end{bmatrix} \\in R^{n\\times 1}$\n",
    "\n",
    "$\\frac{\\partial{L}}{\\partial{b}} = \\frac{1}{m} \\sum_{i=1}^{m} (A_i - Y_i)$\n",
    "\n",
    "#### Algorithme de descente de gradients\n",
    "\n",
    "$W_{t+1} = W_t - \\alpha \\frac{\\partial{L}}{\\partial{W}}$\n",
    "\n",
    "$b_{t+1} = b_t - \\alpha \\frac{\\partial{L}}{\\partial{b}}$\n",
    "\n",
    "###\n",
    "\n",
    "$dZ^{[C_f]} = A^{[C_f]} - y$\n",
    "\n",
    "$dW^{[c]} = \\frac{1}{m} \\times dZ^{[c]} \\cdot A^{[c-1]^{T}}  $ \n",
    "\n",
    "Il s'agit d'un produit matriciel et non scalaire\n",
    "\n",
    "$db^{[c]} = \\frac{1}{m} \\times \\sum_{i=1}^{m} dZ^{[c]}_i$\n",
    "\n",
    "$dZ^{[c-1]} = W^{[c]^{T}} \\cdot dZ^{[c]} \\times A^{[c-1]}(1-A^{[c-1]})$\n",
    "\n"
   ]
  },
  {
   "cell_type": "markdown",
   "metadata": {},
   "source": [
    "### Creation d'une classe couche qui utilise une fonction d'activation sigmoide "
   ]
  },
  {
   "cell_type": "code",
   "execution_count": 24,
   "metadata": {},
   "outputs": [],
   "source": [
    "class couche:\n",
    "    def __init__(self,nbr_neurone,nbr_parametre,numero_couche):\n",
    "        self.nbr_neurone = nbr_neurone\n",
    "        self.nbr_parametre = nbr_parametre\n",
    "        self.numero = numero_couche\n",
    "        \n",
    "    def initialisation(self):\n",
    "        self.W = np.random.randn(self.nbr_parametre,self.nbr_neurone)\n",
    "        self.b = np.random.randn(self.nbr_neurone)\n",
    "        \n",
    "            \n",
    "    \n",
    "    def model(self,X,y):\n",
    "        self.y = y\n",
    "        self.Z = np.dot(X,self.W) + self.b\n",
    "        self.A = 1/(1 + np.exp(-self.Z))\n",
    "        \n",
    "        \n",
    "    def LogLoss(self):    \n",
    "        self.L = -1/len(self.y) * np.sum(self.y * np.log(self.A + 1e-15) + (1-self.y)*np.log(1-self.A + 1e-15))\n",
    "        \n",
    "    def gradient(self,X,dZ):\n",
    "        self.dW = 1/len(self.y) * np.dot(X.transpose(),dZ) ## vrai car on injecte le fonction d'activation A de la couche precedente en tant que X\n",
    "        self.db = 1/len(self.y) * np.sum(dZ)\n",
    "        self.dZ_pre = np.dot(self.dW,dZ.transpose()).transpose() * X * (1-X)\n",
    "    \n",
    "    def descente_gradients(self,pas):\n",
    "        self.W = self.W - pas*self.dW\n",
    "        self.b = self.b - pas*self.db\n",
    "        \n",
    "\n",
    "        \n",
    "        \n",
    "        \n",
    "    "
   ]
  },
  {
   "cell_type": "markdown",
   "metadata": {},
   "source": [
    "### Creation d'une classe permettant de créer un model de classification binaire"
   ]
  },
  {
   "cell_type": "code",
   "execution_count": 25,
   "metadata": {},
   "outputs": [],
   "source": [
    "class binary_model:\n",
    "    def __init__(self,name):\n",
    "        self.name = name\n",
    "        self.L_evolution=[]\n",
    "    \n",
    "    def initialisation(self,neurones_specs):\n",
    "        couche_neurones=[]\n",
    "        for i in range(len(neurones_specs)):\n",
    "            couche_neurones.append(couche(neurones_specs[i][\"neurones\"],neurones_specs[i][\"parametres\"],neurones_specs[i][\"couche\"]))\n",
    "            couche_neurones[i].initialisation()\n",
    "        self.couche_neurones=couche_neurones\n",
    "        self.neuron_numbers=len(self.couche_neurones)\n",
    "        \n",
    "    \n",
    "    def forward_propagation(self,X,y):\n",
    "        X_train = X\n",
    "        for i in range(self.neuron_numbers):\n",
    "            self.couche_neurones[i].model(X_train,y)\n",
    "            X_train = self.couche_neurones[i].A\n",
    "        self.couche_neurones[(self.neuron_numbers -1)].LogLoss()        \n",
    "\n",
    "    \n",
    "    \n",
    "    def test(self,X_test,y_test):\n",
    "        L=[]\n",
    "        X=X_test\n",
    "        for i in range(self.neuron_numbers):\n",
    "            self.couche_neurones[i].model(X,y_test)\n",
    "            X=self.couche_neurones[i].A\n",
    "        y_prediction =(self.couche_neurones[(self.neuron_numbers -1)].A >= 0.5).astype(int)\n",
    "        return y_prediction\n",
    "    \n",
    "    def score_F1(self,y,y_prediction):\n",
    "        TP = 0\n",
    "        FP = 0\n",
    "        FN = 0\n",
    "        for i in range(len(y)):\n",
    "            if(y_prediction[i]==1):\n",
    "                if(y[i]==1):\n",
    "                    TP+=1\n",
    "                else:\n",
    "                    FP+=1\n",
    "            else:\n",
    "                if(y[i]==1):\n",
    "                    FN += 1\n",
    "            \n",
    "        self.precision = TP/(TP + FP)\n",
    "        self.recall = TP/(TP + FN)\n",
    "        self.F1_score = 2 *((self.precision*self.recall)/(self.precision+self.recall)) \n",
    "        \n",
    "    def prediction(self,X):\n",
    "        X_compute = X\n",
    "        for i in range(self.neuron_numbers):\n",
    "            self.couche_neurones[i].model(X_compute,0)\n",
    "            X_compute=self.couche_neurones[i].A\n",
    "        return ((self.couche_neurones[(self.neuron_numbers -1)].A >= 0.5).astype(int))\n",
    "    \n",
    "    def back_propagation(self,X,pas):\n",
    "        L = self.couche_neurones[(self.neuron_numbers-1)].LogLoss()\n",
    "        dZ=self.couche_neurones[(self.neuron_numbers-1)].A - self.couche_neurones[(self.neuron_numbers-1)].y\n",
    "        X_train=self.couche_neurones[(self.neuron_numbers-2)].A\n",
    "        for i in reversed(range(1,self.neuron_numbers)):\n",
    "            self.couche_neurones[i].gradient(X_train,dZ)\n",
    "            X_train=self.couche_neurones[i-1].A\n",
    "            dZ=self.couche_neurones[i].dZ_pre\n",
    "        self.couche_neurones[0].gradient(X,dZ)\n",
    "        \n",
    "        for i in self.couche_neurones:\n",
    "            i.descente_gradients(pas)\n",
    "\n",
    "\n",
    "    def train(self,X,y,pas,epoch,batch_size,step=1):\n",
    "        for i in tqdm(range(epoch)):\n",
    "            iteration_start=random.randint(0,(len(y)-batch_size-1))\n",
    "            X_train = X[iteration_start:(iteration_start+batch_size)]\n",
    "            y_train = y[iteration_start:(iteration_start+batch_size)]\n",
    "            self.forward_propagation(X_train,y_train)\n",
    "            self.back_propagation(X_train,pas)\n",
    "            if (i%step==0):\n",
    "                self.L_evolution.append(self.couche_neurones[(self.neuron_numbers-1)].L)\n",
    "            if (i%2500==0): \n",
    "                pas = pas - ((1/20)*pas)\n",
    "                self.pas = pas\n",
    "    \n",
    "    def plot_L(self):\n",
    "        plt.plot([i for i in range(len(self.L_evolution))],self.L_evolution,label='LogLoss')\n",
    "        plt.show(self.L_evolution)\n",
    "        \n",
    "    def reset_L(self):\n",
    "        self.L_evolution_backup=self.L_evolution\n",
    "        self.L_evolution=[]\n",
    "        \n",
    "    def print_gradient(self):\n",
    "        return self.couche_neurones[0].dW\n",
    "        \n",
    "        "
   ]
  },
  {
   "cell_type": "code",
   "execution_count": null,
   "metadata": {},
   "outputs": [],
   "source": []
  },
  {
   "cell_type": "markdown",
   "metadata": {},
   "source": [
    "### Creation d'une classe pour le pre-processing d'un CNN:\n",
    "\n",
    "$Z \\in R^{ m\\times f\\times y\\times x}$  \n",
    "y,x correspond à la taille des images avec y la hauteur et x la largeur  \n",
    "f le nombre de features de l'image  \n",
    "m le nombre d'images utilisées  "
   ]
  },
  {
   "cell_type": "code",
   "execution_count": 26,
   "metadata": {},
   "outputs": [],
   "source": [
    "class pre_process_CNN:\n",
    "    def __init__(self,preprocessing):\n",
    "        self.preprocessing=preprocessing\n",
    "    \n",
    "    def convolution(self,X,X_height,X_width,y,y_shape,pas):\n",
    "        Z = np.zeros([X_height - (2 * pas), X_width - (2 * pas)])\n",
    "        \n",
    "        for i in range(pas, (X_height - pas)):\n",
    "            for j in range(pas, (X_width - pas)):\n",
    "                Z[i-pas,j-pas] = np.sum(X[i - pas:i + pas + 1, j - pas:j + pas + 1] * y)   \n",
    "        Z=np.resize(Z,[1,Z.shape[0],Z.shape[1]])\n",
    "        return np.clip(Z,0,255)#\n",
    "        \n",
    "    def couche_convolution_standart(self,X,y):#y est une liste de noyeaux de convolution sous forme de tableau 4D et X une liste des images sous forme de tableau 3D\n",
    "        output=np.zeros([1,y.shape[0]*X[0].shape[0],int(X.shape[-2]-(y[0].shape[0]-1)),int(X.shape[-1]-(y[0].shape[0]-1))])\n",
    "        for image in X:\n",
    "            output_convolution=np.zeros([1,int(X.shape[-2]-(y[0].shape[0]-1)),int(X.shape[-1]-(y[0].shape[0]-1))]) # creation d un resultat de la bonne shape\n",
    "            for feature in image:\n",
    "                for filtre in y:\n",
    "                    output_convolution=np.append(output_convolution,self.convolution(feature,feature.shape[0],feature.shape[1],filtre,filtre.shape[0],int((filtre.shape[0]-1)/2)),axis=0)\n",
    "            output=np.append(output,np.resize(output_convolution[1:],[1,output_convolution[1:].shape[0],output_convolution[1:].shape[1],output_convolution[1:].shape[2]]),axis=0)\n",
    "        return output[1:]\n",
    "    \n",
    "    def couche_maxPool(self,X,pas): #X est une liste des images sous forme de tableau 4D\n",
    "        output=np.zeros([1,X.shape[1],int(X.shape[2]/pas),int(X.shape[3]/pas)])\n",
    "    \n",
    "        X_height=X.shape[2]\n",
    "        X_width=X.shape[3]\n",
    "        for image in X:\n",
    "            output_maxpool=np.zeros([1,int(X.shape[2]/pas),int(X.shape[3]/pas)])\n",
    "            for feature in image:\n",
    "                output_maxpool=np.append(output_maxpool,self.maxPool(feature,X_height,X_width,pas),axis=0)\n",
    "            \n",
    "            output=np.append(output,np.resize(output_maxpool[1:],[1,output_maxpool[1:].shape[0],output_maxpool[1:].shape[1],output_maxpool[1:].shape[2]]),axis=0)\n",
    "    \n",
    "        return output[1:]     \n",
    "                \n",
    "    def couche_meanPool(self,X,pas): #X est une liste des images sous forme de tableau 4D\n",
    "        output=np.zeros([1,X.shape[1],int(X.shape[2]/pas),int(X.shape[3]/pas)])\n",
    "    \n",
    "        X_height=X.shape[2]\n",
    "        X_width=X.shape[3]\n",
    "        for image in X:\n",
    "            output_meanpool=np.zeros([1,int(X.shape[2]/pas),int(X.shape[3]/pas)])\n",
    "            for feature in image:\n",
    "                output_meanpool=np.append(output_meanpool,self.meanPool(feature,X_height,X_width,pas),axis=0)\n",
    "            \n",
    "            output=np.append(output,np.resize(output_meanpool[1:],[1,output_meanpool[1:].shape[0],output_meanpool[1:].shape[1],output_meanpool[1:].shape[2]]),axis=0)\n",
    "    \n",
    "        return output[1:]                \n",
    "    \n",
    "    def maxPool(self,X,X_height,X_width,pas):\n",
    "        MAX=np.zeros([int(X_height/pas),int(X_width/pas)])\n",
    "        for i in range(0,X_height,pas):\n",
    "            for j in range(0,X_width,pas):\n",
    "                MAX[int(i/pas),int(j/pas)] = np.max(X[i:i+pas,j:j+pas])\n",
    "        MAX=np.resize(MAX,[1,MAX.shape[0],MAX.shape[1]])\n",
    "        return MAX\n",
    "    \n",
    "    def meanPool(self,X,X_height,X_width,pas):\n",
    "        MOY=np.zeros([int(X_height/pas),int(X_width/pas)])\n",
    "        for i in range(0,X_height,pas):\n",
    "            for j in range(0,X_width,pas):\n",
    "                MOY[int(i/pas),int(j/pas)] = np.mean(X[i:i+pas,j:j+pas],dtype=\"int\")\n",
    "        MOY=np.resize(MOY,[1,MOY.shape[0],MOY.shape[1]])\n",
    "        return MOY \n",
    "       \n",
    "    def initialisation(self,X):\n",
    "        self.output=X\n",
    "        \n",
    "    def processing(self):\n",
    "        \n",
    "        for couche in self.preprocessing:\n",
    "            if (couche[\"fonction\"]==\"maxpool\"):\n",
    "                self.output=self.couche_maxPool(self.output,couche[\"pas\"])\n",
    "            elif (couche[\"fonction\"]==\"meanpool\"):\n",
    "                self.output=self.couche_meanPool(self.output,couche[\"pas\"])\n",
    "            elif (couche[\"fonction\"]==\"convolution\"):\n",
    "                self.output=self.couche_convolution_standart(self.output,couche[\"y\"])\n",
    "            \n",
    "            \n",
    "        new_shape = (self.output.shape[0], int(self.output.shape[1] * self.output.shape[2] * self.output.shape[3]))\n",
    "        self.output.resize(new_shape)\n",
    "        self.output=self.output/255\n",
    "        \n",
    "        return self.output\n",
    "\n"
   ]
  },
  {
   "cell_type": "code",
   "execution_count": 27,
   "metadata": {},
   "outputs": [],
   "source": [
    "y=np.array([[[0,1,0],[1,-4,1],[0,1,0]],[[0,-1,0],[-1,4,-1],[0,-1,0]]])\n",
    "preprocessing=pre_process_CNN([{\"fonction\":\"convolution\",\"y\":y},{\"fonction\":\"convolution\",\"y\":y}])\n",
    "\n",
    "X=np.random.randint(256,size=[10,1,32,32])\n",
    "\n",
    "preprocessing.initialisation(X)\n",
    "result=preprocessing.processing()\n"
   ]
  },
  {
   "cell_type": "code",
   "execution_count": 28,
   "metadata": {},
   "outputs": [
    {
     "data": {
      "text/plain": [
       "array([[0.        , 1.        , 0.        , ..., 0.        , 1.        ,\n",
       "        0.        ],\n",
       "       [1.        , 0.        , 1.        , ..., 1.        , 1.        ,\n",
       "        0.        ],\n",
       "       [0.        , 0.52941176, 1.        , ..., 0.        , 1.        ,\n",
       "        0.        ],\n",
       "       ...,\n",
       "       [0.        , 1.        , 0.8       , ..., 0.        , 0.69411765,\n",
       "        0.        ],\n",
       "       [0.76470588, 1.        , 0.        , ..., 1.        , 0.        ,\n",
       "        1.        ],\n",
       "       [1.        , 0.        , 1.        , ..., 1.        , 0.        ,\n",
       "        1.        ]])"
      ]
     },
     "execution_count": 28,
     "metadata": {},
     "output_type": "execute_result"
    }
   ],
   "source": [
    "result"
   ]
  },
  {
   "cell_type": "code",
   "execution_count": 29,
   "metadata": {},
   "outputs": [
    {
     "data": {
      "text/plain": [
       "(2, 10, 9, 9)"
      ]
     },
     "execution_count": 29,
     "metadata": {},
     "output_type": "execute_result"
    }
   ],
   "source": [
    "X=np.zeros([1,10,9,9])\n",
    "X=np.append(X,np.random.randint(256,size=[1,10,9,9]),axis=0)\n",
    "X.shape"
   ]
  },
  {
   "cell_type": "code",
   "execution_count": 30,
   "metadata": {},
   "outputs": [
    {
     "data": {
      "text/plain": [
       "array([[ 1,  2,  4,  5,  6,  7,  8,  9],\n",
       "       [10, 11, 12, 13, 14, 15, 16, 17],\n",
       "       [ 1,  2,  4,  5,  6,  7,  8,  9]])"
      ]
     },
     "execution_count": 30,
     "metadata": {},
     "output_type": "execute_result"
    }
   ],
   "source": [
    "x=np.array([[[[1,2],[4,5]],[[6,7],[8,9]]],[[[10,11],[12,13]],[[14,15],[16,17]]],[[[1,2],[4,5]],[[6,7],[8,9]]]])\n",
    "x.resize(x.shape[0],int(x.shape[1]*x.shape[2]*x.shape[3]))\n",
    "x"
   ]
  },
  {
   "cell_type": "code",
   "execution_count": 31,
   "metadata": {},
   "outputs": [],
   "source": [
    "X=np.random.randint(256,size=[10,9,9])\n",
    "X.resize(1,X.shape[0],X.shape[1],X.shape[1])"
   ]
  },
  {
   "cell_type": "code",
   "execution_count": 32,
   "metadata": {},
   "outputs": [
    {
     "name": "stdout",
     "output_type": "stream",
     "text": [
      "(9, 9)\n",
      "(9, 9)\n",
      "(9, 9)\n",
      "(9, 9)\n",
      "(9, 9)\n",
      "(9, 9)\n",
      "(9, 9)\n",
      "(9, 9)\n",
      "(9, 9)\n",
      "(9, 9)\n"
     ]
    }
   ],
   "source": [
    "for i in X[-1]:\n",
    "    print(i.shape)"
   ]
  },
  {
   "cell_type": "code",
   "execution_count": 33,
   "metadata": {},
   "outputs": [],
   "source": [
    "X=np.append(X,np.random.randint(256,size=[1,10,9,9]),axis=0)"
   ]
  },
  {
   "cell_type": "code",
   "execution_count": 34,
   "metadata": {},
   "outputs": [
    {
     "name": "stdout",
     "output_type": "stream",
     "text": [
      "(10, 9, 9)\n",
      "(10, 9, 9)\n"
     ]
    }
   ],
   "source": [
    "for i in X:\n",
    "    print(i.shape)"
   ]
  },
  {
   "cell_type": "markdown",
   "metadata": {},
   "source": [
    "### Test avec un dataset de sklearn"
   ]
  },
  {
   "cell_type": "code",
   "execution_count": 35,
   "metadata": {},
   "outputs": [
    {
     "data": {
      "image/png": "[encoded data removed]",
      "text/plain": [
       "<Figure size 432x288 with 1 Axes>"
      ]
     },
     "metadata": {
      "needs_background": "light"
     },
     "output_type": "display_data"
    },
    {
     "data": {
      "image/png": "[encoded data removed]",
      "text/plain": [
       "<Figure size 432x288 with 1 Axes>"
      ]
     },
     "metadata": {
      "needs_background": "light"
     },
     "output_type": "display_data"
    }
   ],
   "source": [
    "split=5000\n",
    "X, y = make_circles(n_samples=50000,noise=0.08,factor=0.4,random_state=0)\n",
    "y = y.reshape((y.shape[0]),1)\n",
    "\n",
    "X=(X-np.min(X))\n",
    "X=(1/np.max(X))*X\n",
    "X_train = X[split:]\n",
    "y_train = y[split:] \n",
    "plt.scatter(X_train.T[0, :], X_train.T[1, :],c=y_train, cmap='summer')\n",
    "plt.show()\n",
    "\n",
    "\n",
    "\n",
    "X_test = X[:split]\n",
    "y_test = y[:split]\n",
    "plt.scatter(X_test.T[0, :], X_test.T[1, :],c=y_test, cmap='summer')\n",
    "plt.show()\n"
   ]
  },
  {
   "cell_type": "code",
   "execution_count": 36,
   "metadata": {},
   "outputs": [
    {
     "name": "stderr",
     "output_type": "stream",
     "text": [
      "100%|██████████████████████████████████████| 5000/5000 [00:14<00:00, 339.91it/s]\n"
     ]
    },
    {
     "name": "stdout",
     "output_type": "stream",
     "text": [
      "0.9160305343511451\n"
     ]
    },
    {
     "name": "stderr",
     "output_type": "stream",
     "text": [
      "100%|██████████████████████████████████████| 5000/5000 [00:14<00:00, 346.79it/s]\n"
     ]
    },
    {
     "name": "stdout",
     "output_type": "stream",
     "text": [
      "0.989694730701925\n"
     ]
    }
   ],
   "source": [
    "score_F1=0\n",
    "while (score_F1<0.98):\n",
    "    tri_circle_model_V1=binary_model(\"tri_circle\")\n",
    "    tri_circle_model_V1.initialisation([{\"couche\":1 ,\"neurones\":64 ,\"parametres\":2 },{\"couche\":2 ,\"neurones\":64 ,\"parametres\":64 },{\"couche\":3 ,\"neurones\":1 ,\"parametres\":64 }])\n",
    "    tri_circle_model_V1.train(X_train,y_train,np.array([0.3]),5000,512)\n",
    "    tri_circle_model_V1.score_F1(y_test,tri_circle_model_V1.prediction(X_test))\n",
    "    score_F1= tri_circle_model_V1.F1_score\n",
    "    print(score_F1)"
   ]
  },
  {
   "cell_type": "markdown",
   "metadata": {},
   "source": [
    "### Evolution de la fonction coût"
   ]
  },
  {
   "cell_type": "code",
   "execution_count": 37,
   "metadata": {},
   "outputs": [
    {
     "data": {
      "image/png": "[encoded data removed]",
      "text/plain": [
       "<Figure size 432x288 with 1 Axes>"
      ]
     },
     "metadata": {
      "needs_background": "light"
     },
     "output_type": "display_data"
    }
   ],
   "source": [
    "tri_circle_model_V1.plot_L()"
   ]
  },
  {
   "cell_type": "markdown",
   "metadata": {},
   "source": [
    "### Données relatives au score F1"
   ]
  },
  {
   "cell_type": "code",
   "execution_count": 38,
   "metadata": {},
   "outputs": [
    {
     "data": {
      "text/plain": [
       "0.989694730701925"
      ]
     },
     "execution_count": 38,
     "metadata": {},
     "output_type": "execute_result"
    }
   ],
   "source": [
    "tri_circle_model_V1.F1_score"
   ]
  },
  {
   "cell_type": "code",
   "execution_count": 39,
   "metadata": {},
   "outputs": [
    {
     "data": {
      "text/plain": [
       "1.0"
      ]
     },
     "execution_count": 39,
     "metadata": {},
     "output_type": "execute_result"
    }
   ],
   "source": [
    "tri_circle_model_V1.recall"
   ]
  },
  {
   "cell_type": "code",
   "execution_count": 40,
   "metadata": {},
   "outputs": [
    {
     "data": {
      "text/plain": [
       "0.9795996920708238"
      ]
     },
     "execution_count": 40,
     "metadata": {},
     "output_type": "execute_result"
    }
   ],
   "source": [
    "tri_circle_model_V1.precision"
   ]
  },
  {
   "cell_type": "markdown",
   "metadata": {},
   "source": [
    "### Sauvegarde du model final :"
   ]
  },
  {
   "cell_type": "code",
   "execution_count": 41,
   "metadata": {},
   "outputs": [],
   "source": [
    "tri_circle_model_Vf=tri_circle_model_V1"
   ]
  },
  {
   "cell_type": "code",
   "execution_count": 42,
   "metadata": {},
   "outputs": [],
   "source": [
    "x = tri_circle_model_Vf.print_gradient()"
   ]
  },
  {
   "cell_type": "code",
   "execution_count": 51,
   "metadata": {},
   "outputs": [
    {
     "data": {
      "text/plain": [
       "1.49448719636252e-09"
      ]
     },
     "execution_count": 51,
     "metadata": {},
     "output_type": "execute_result"
    }
   ],
   "source": [
    "\n"
   ]
  }
 ],
 "metadata": {
  "kernelspec": {
   "display_name": "Python 3 (ipykernel)",
   "language": "python",
   "name": "python3"
  },
  "language_info": {
   "codemirror_mode": {
    "name": "ipython",
    "version": 3
   },
   "file_extension": ".py",
   "mimetype": "text/x-python",
   "name": "python",
   "nbconvert_exporter": "python",
   "pygments_lexer": "ipython3",
   "version": "3.10.6"
  }
 },
 "nbformat": 4,
 "nbformat_minor": 4
}
